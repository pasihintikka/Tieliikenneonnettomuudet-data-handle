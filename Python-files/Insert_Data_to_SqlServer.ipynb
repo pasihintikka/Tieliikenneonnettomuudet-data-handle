{
 "cells": [
  {
   "cell_type": "markdown",
   "id": "1b872e87",
   "metadata": {},
   "source": [
    "# Insert data to SQL Server"
   ]
  },
  {
   "cell_type": "markdown",
   "id": "70861e0b",
   "metadata": {},
   "source": [
    "Files must insert database in specified order, when there are foreign keys between tables. Some parent columns in some tables contains values which must be inserted in before some children column values can insert. Order is next:\n",
    "1. Alueet (one merged file) and Tieomin (files by years), (FK parent columns 'alue_id', 'tieomin_id' and 'Vuosi' used in Onnettomuudet table).\n",
    "2. Onnettomuudet (files by year), (FK parent columns 'onnett_id' used in Osalliset table)\n",
    "3. Osalliset (one merged file)\n",
    "4. Väestö (one file)\n",
    "\n",
    "Merged files are created by code file:\n",
    "- File merge for DB.\n",
    "\n",
    "In some error situations, the source file or its values may be incorrect. In these situations, the source file may need to be repaired with the following code files:\n",
    "- Editing Files fo DB , Create File for DB\n",
    "- Check file columns\n",
    "- Check file error"
   ]
  },
  {
   "cell_type": "code",
   "execution_count": 1,
   "id": "827ff224",
   "metadata": {},
   "outputs": [],
   "source": [
    "# Needed libraries\n",
    "import pandas as pd\n",
    "import numpy as np\n",
    "import pyodbc\n",
    "import sqlalchemy\n",
    "from sqlalchemy.engine import URL\n",
    "from sqlalchemy import create_engine"
   ]
  },
  {
   "cell_type": "markdown",
   "id": "c1edab49",
   "metadata": {},
   "source": [
    "#### Parameters of DB and Source data"
   ]
  },
  {
   "cell_type": "code",
   "execution_count": 2,
   "id": "722e9b88",
   "metadata": {},
   "outputs": [],
   "source": [
    "# Database parameters\n",
    "Database = 'Onnettomuudet'\n",
    "Tablename = 'Onnettomuudet'\n",
    "\n",
    "# Source file parameters\n",
    "src_file_start = '../datasets/onnettomuus/db/tielonnett_'\n",
    "src_file_end = '_onnett.csv'\n",
    "years_start = 2020\n",
    "years_end = 2021\n",
    "src_delimiter = ';'\n",
    "src_encoding = 'utf-8'"
   ]
  },
  {
   "cell_type": "markdown",
   "id": "44857c03",
   "metadata": {},
   "source": [
    "#### Connection to database"
   ]
  },
  {
   "cell_type": "code",
   "execution_count": 2,
   "id": "2292deb6",
   "metadata": {},
   "outputs": [],
   "source": [
    "#conn = 'DRIVER={ODBC Driver 17 for SQL Server};Server=localhost\\SQLEXPRESS;Database=Onnettomuudet;Trusted_Connection=Yes;'\n",
    "conn = 'DRIVER={ODBC Driver 17 for SQL Server};server=FUJITSU-PC\\SQLEXPRESS;database=Onnettomuudet;trusted_connection=Yes;'\n",
    "connection_url = URL.create(\"mssql+pyodbc\", query={\"odbc_connect\": conn})\n",
    "# Create engine between python and database\n",
    "engine = create_engine(connection_url)"
   ]
  },
  {
   "cell_type": "markdown",
   "id": "738122e6",
   "metadata": {},
   "source": [
    "#### Insert one datafile to database"
   ]
  },
  {
   "cell_type": "code",
   "execution_count": null,
   "id": "b4fb3674",
   "metadata": {},
   "outputs": [],
   "source": [
    "'''\n",
    "# Database parameter\n",
    "one_file_table = 'Osalliset'\n",
    "# Source file parameters\n",
    "one_file_start = '../datasets/onnettomuus/db/tielonnett_'\n",
    "one_file_end = '_osall.csv'\n",
    "year = 2005\n",
    "\n",
    "# Read source file \n",
    "df = pd.read_csv(one_file_start+str(year)+one_file_end, delimiter=src_delimiter, encoding=src_encoding)\n",
    "\n",
    "# Insert file to database\n",
    "# set index=False to avoid bringing the dataframe index in as a column\n",
    "df.to_sql(one_file_table, con=engine, if_exists='append', index=False)\n",
    "'''"
   ]
  },
  {
   "cell_type": "code",
   "execution_count": null,
   "id": "489a3f68",
   "metadata": {},
   "outputs": [],
   "source": [
    "#types = dict(df.dtypes)\n",
    "#print(types)\n",
    "\n",
    "#max_len = df[df['Oslakpvm'].str.len() == df['Oslakpvm'].str.len().max()]\n",
    "#max_len['Oslakpvm']\n",
    "#max_len = max(df['Mo_molsel'], key=len)\n",
    "#max_len"
   ]
  },
  {
   "cell_type": "markdown",
   "id": "403cc1ed",
   "metadata": {},
   "source": [
    "#### Insert data files to database"
   ]
  },
  {
   "cell_type": "code",
   "execution_count": 23,
   "id": "31c602ef",
   "metadata": {},
   "outputs": [],
   "source": [
    "#'''\n",
    "for i in range(years_start,years_end+1):\n",
    "    df = pd.read_csv(src_file_start+str(i)+src_file_end, delimiter=src_delimiter, encoding=src_encoding)\n",
    "    df.to_sql(Tablename, con=engine, if_exists='append', index=False)\n",
    "#'''"
   ]
  },
  {
   "cell_type": "markdown",
   "id": "ab40ff58",
   "metadata": {},
   "source": [
    "#### Replace data to database"
   ]
  },
  {
   "cell_type": "code",
   "execution_count": 7,
   "id": "0642f8fc",
   "metadata": {},
   "outputs": [
    {
     "data": {
      "text/plain": [
       "-1"
      ]
     },
     "execution_count": 7,
     "metadata": {},
     "output_type": "execute_result"
    }
   ],
   "source": [
    "# One option is to simply replace the entire old table with an updated table generated from your dataframe:\n",
    "#df = pd.read_csv('../datasets/onnettomuus/db/tielonnett_alue_all.csv', delimiter=';', encoding='utf-8')\n",
    "#df.to_sql('Alueet', con=engine, if_exists='replace', index=False)\n"
   ]
  },
  {
   "cell_type": "markdown",
   "id": "ceea409d",
   "metadata": {},
   "source": [
    "#### Add data to database"
   ]
  },
  {
   "cell_type": "code",
   "execution_count": 3,
   "id": "23b595ba",
   "metadata": {},
   "outputs": [
    {
     "data": {
      "text/plain": [
       "-1"
      ]
     },
     "execution_count": 3,
     "metadata": {},
     "output_type": "execute_result"
    }
   ],
   "source": [
    "# Second option is to simply append new data to an existing table:\n",
    "df = pd.read_csv('../datasets/onnettomuus/db/väestö_maakunnittain_db.csv', delimiter=';', encoding='utf-8')\n",
    "df.to_sql('Väestö', con=engine, if_exists='append', index=False)\n"
   ]
  },
  {
   "cell_type": "markdown",
   "id": "196d7db6",
   "metadata": {},
   "source": [
    "#### Check inserting data from table"
   ]
  },
  {
   "cell_type": "code",
   "execution_count": 24,
   "id": "cd8c2d4e",
   "metadata": {},
   "outputs": [
    {
     "data": {
      "text/html": [
       "<div>\n",
       "<style scoped>\n",
       "    .dataframe tbody tr th:only-of-type {\n",
       "        vertical-align: middle;\n",
       "    }\n",
       "\n",
       "    .dataframe tbody tr th {\n",
       "        vertical-align: top;\n",
       "    }\n",
       "\n",
       "    .dataframe thead th {\n",
       "        text-align: right;\n",
       "    }\n",
       "</style>\n",
       "<table border=\"1\" class=\"dataframe\">\n",
       "  <thead>\n",
       "    <tr style=\"text-align: right;\">\n",
       "      <th></th>\n",
       "      <th>Vuosi</th>\n",
       "      <th>Onn_count</th>\n",
       "    </tr>\n",
       "  </thead>\n",
       "  <tbody>\n",
       "    <tr>\n",
       "      <th>0</th>\n",
       "      <td>2010</td>\n",
       "      <td>33814</td>\n",
       "    </tr>\n",
       "    <tr>\n",
       "      <th>1</th>\n",
       "      <td>2007</td>\n",
       "      <td>16903</td>\n",
       "    </tr>\n",
       "    <tr>\n",
       "      <th>2</th>\n",
       "      <td>2021</td>\n",
       "      <td>9567</td>\n",
       "    </tr>\n",
       "    <tr>\n",
       "      <th>3</th>\n",
       "      <td>2013</td>\n",
       "      <td>29719</td>\n",
       "    </tr>\n",
       "    <tr>\n",
       "      <th>4</th>\n",
       "      <td>2008</td>\n",
       "      <td>17266</td>\n",
       "    </tr>\n",
       "    <tr>\n",
       "      <th>5</th>\n",
       "      <td>2016</td>\n",
       "      <td>19991</td>\n",
       "    </tr>\n",
       "    <tr>\n",
       "      <th>6</th>\n",
       "      <td>2005</td>\n",
       "      <td>16598</td>\n",
       "    </tr>\n",
       "    <tr>\n",
       "      <th>7</th>\n",
       "      <td>2019</td>\n",
       "      <td>15297</td>\n",
       "    </tr>\n",
       "    <tr>\n",
       "      <th>8</th>\n",
       "      <td>2014</td>\n",
       "      <td>28345</td>\n",
       "    </tr>\n",
       "    <tr>\n",
       "      <th>9</th>\n",
       "      <td>2020</td>\n",
       "      <td>11347</td>\n",
       "    </tr>\n",
       "    <tr>\n",
       "      <th>10</th>\n",
       "      <td>2011</td>\n",
       "      <td>33203</td>\n",
       "    </tr>\n",
       "    <tr>\n",
       "      <th>11</th>\n",
       "      <td>2017</td>\n",
       "      <td>17350</td>\n",
       "    </tr>\n",
       "    <tr>\n",
       "      <th>12</th>\n",
       "      <td>2006</td>\n",
       "      <td>16645</td>\n",
       "    </tr>\n",
       "    <tr>\n",
       "      <th>13</th>\n",
       "      <td>2012</td>\n",
       "      <td>32812</td>\n",
       "    </tr>\n",
       "    <tr>\n",
       "      <th>14</th>\n",
       "      <td>2018</td>\n",
       "      <td>16220</td>\n",
       "    </tr>\n",
       "    <tr>\n",
       "      <th>15</th>\n",
       "      <td>2009</td>\n",
       "      <td>30961</td>\n",
       "    </tr>\n",
       "    <tr>\n",
       "      <th>16</th>\n",
       "      <td>2015</td>\n",
       "      <td>25175</td>\n",
       "    </tr>\n",
       "  </tbody>\n",
       "</table>\n",
       "</div>"
      ],
      "text/plain": [
       "    Vuosi  Onn_count\n",
       "0    2010      33814\n",
       "1    2007      16903\n",
       "2    2021       9567\n",
       "3    2013      29719\n",
       "4    2008      17266\n",
       "5    2016      19991\n",
       "6    2005      16598\n",
       "7    2019      15297\n",
       "8    2014      28345\n",
       "9    2020      11347\n",
       "10   2011      33203\n",
       "11   2017      17350\n",
       "12   2006      16645\n",
       "13   2012      32812\n",
       "14   2018      16220\n",
       "15   2009      30961\n",
       "16   2015      25175"
      ]
     },
     "execution_count": 24,
     "metadata": {},
     "output_type": "execute_result"
    }
   ],
   "source": [
    "sqlcommand = 'SELECT COUNT(Onnett_id) AS Onn_count, Vuosi FROM Onnettomuudet GROUP BY Vuosi;'\n",
    "\n",
    "#sqlcommand = 'SELECT COUNT(alue_id) AS Alue_count FROM Alueet;'\n",
    "\n",
    "#sqlcommand = 'SELECT COUNT(tieomin_id) AS Tieomin_count FROM Tieomin;'\n",
    "\n",
    "query = pd.read_sql_query(sqlcommand,con=engine)\n",
    "df_check = pd.DataFrame(query, columns = ['Vuosi','Onn_count'])\n",
    "df_check\n",
    "#df_check_alue = pd.DataFrame(query, columns = ['Alue_count'])\n",
    "#df_check_alue\n",
    "#df_check_tieomin = pd.DataFrame(query, columns = ['Tieomin_count'])\n",
    "#df_check_tieomin"
   ]
  },
  {
   "cell_type": "code",
   "execution_count": 27,
   "id": "843d633e",
   "metadata": {},
   "outputs": [
    {
     "data": {
      "text/html": [
       "<div>\n",
       "<style scoped>\n",
       "    .dataframe tbody tr th:only-of-type {\n",
       "        vertical-align: middle;\n",
       "    }\n",
       "\n",
       "    .dataframe tbody tr th {\n",
       "        vertical-align: top;\n",
       "    }\n",
       "\n",
       "    .dataframe thead th {\n",
       "        text-align: right;\n",
       "    }\n",
       "</style>\n",
       "<table border=\"1\" class=\"dataframe\">\n",
       "  <thead>\n",
       "    <tr style=\"text-align: right;\">\n",
       "      <th></th>\n",
       "      <th>Osall_count</th>\n",
       "    </tr>\n",
       "  </thead>\n",
       "  <tbody>\n",
       "    <tr>\n",
       "      <th>0</th>\n",
       "      <td>642447</td>\n",
       "    </tr>\n",
       "  </tbody>\n",
       "</table>\n",
       "</div>"
      ],
      "text/plain": [
       "   Osall_count\n",
       "0       642447"
      ]
     },
     "execution_count": 27,
     "metadata": {},
     "output_type": "execute_result"
    }
   ],
   "source": [
    "sqlcommand = 'SELECT COUNT(Osall_id) AS Osall_count FROM Osalliset;'\n",
    "\n",
    "query = pd.read_sql_query(sqlcommand,con=engine)\n",
    "df_check_osall = pd.DataFrame(query, columns = ['Osall_count'])\n",
    "df_check_osall"
   ]
  },
  {
   "cell_type": "code",
   "execution_count": null,
   "id": "39d8923d",
   "metadata": {},
   "outputs": [],
   "source": [
    "# Closing database connection\n",
    "#engine.close()"
   ]
  },
  {
   "cell_type": "code",
   "execution_count": null,
   "id": "8e8aace9",
   "metadata": {},
   "outputs": [],
   "source": []
  }
 ],
 "metadata": {
  "kernelspec": {
   "display_name": "Python 3 (ipykernel)",
   "language": "python",
   "name": "python3"
  },
  "language_info": {
   "codemirror_mode": {
    "name": "ipython",
    "version": 3
   },
   "file_extension": ".py",
   "mimetype": "text/x-python",
   "name": "python",
   "nbconvert_exporter": "python",
   "pygments_lexer": "ipython3",
   "version": "3.10.4"
  }
 },
 "nbformat": 4,
 "nbformat_minor": 5
}
