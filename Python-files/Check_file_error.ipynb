{
 "cells": [
  {
   "cell_type": "markdown",
   "id": "e2f41444",
   "metadata": {},
   "source": [
    "# Check file error"
   ]
  },
  {
   "cell_type": "markdown",
   "id": "1ff3a3e1",
   "metadata": {},
   "source": [
    "Looking for mismatched values and correct it. Some values are out of range (incorrect input or creation).\n",
    "\n",
    "This check is important before inserting data into database tables without errors OR before use data queries without errors."
   ]
  },
  {
   "cell_type": "markdown",
   "id": "be86997b",
   "metadata": {},
   "source": [
    "### Define parameters of the source and result files"
   ]
  },
  {
   "cell_type": "code",
   "execution_count": 43,
   "id": "a0b92663",
   "metadata": {},
   "outputs": [],
   "source": [
    "# File path and name\n",
    "year = 2014\n",
    "src_file = '../datasets/onnettomuus/co/tielonnett_'+str(year)+'_onnett.csv'\n",
    "result_file = '../datasets/onnettomuus/co/tielonnett_'+str(year)+'_onnett.csv'\n",
    "\n",
    "# File attributes\n",
    "src_delimiter = ';'\n",
    "src_encoding = 'utf-8'\n",
    "rslt_delimiter = ';'\n",
    "rslt_encoding = 'utf-8'"
   ]
  },
  {
   "cell_type": "code",
   "execution_count": 44,
   "id": "eb111240",
   "metadata": {},
   "outputs": [],
   "source": [
    "# Used libraries\n",
    "import pandas as pd\n",
    "import numpy as np\n",
    "import math"
   ]
  },
  {
   "cell_type": "markdown",
   "id": "faebfae8",
   "metadata": {},
   "source": [
    "#### Create empty dataframe with column named as years"
   ]
  },
  {
   "cell_type": "code",
   "execution_count": 45,
   "id": "1f99face",
   "metadata": {},
   "outputs": [
    {
     "name": "stderr",
     "output_type": "stream",
     "text": [
      "C:\\Users\\Pasi\\AppData\\Local\\Temp\\ipykernel_11332\\842088147.py:1: DtypeWarning: Columns (55,87) have mixed types. Specify dtype option on import or set low_memory=False.\n",
      "  df = pd.read_csv(src_file, delimiter=src_delimiter, encoding=src_encoding)\n"
     ]
    }
   ],
   "source": [
    "df = pd.read_csv(src_file, delimiter=src_delimiter, encoding=src_encoding)"
   ]
  },
  {
   "cell_type": "code",
   "execution_count": 46,
   "id": "f50136d9",
   "metadata": {},
   "outputs": [],
   "source": [
    "df1 = pd.DataFrame(df, columns = ['ELY','Elynimi','Poliisipri','Piirinimi','Maakunta','Maakuntsel','Kunta','Kuntasel'])"
   ]
  },
  {
   "cell_type": "code",
   "execution_count": 47,
   "id": "db7ad1ee",
   "metadata": {},
   "outputs": [],
   "source": [
    "errors = []\n",
    "errors = df1[(df1['ELY'] < 0)]\n",
    "#errors = df1[(df1['Poliisipri'] < 0)]\n",
    "#errors = df1[(df1['Maakunta'] < 0)]\n",
    "#errors = df1[(df1['Kunta'] < 0)]"
   ]
  },
  {
   "cell_type": "code",
   "execution_count": 60,
   "id": "81784f1f",
   "metadata": {},
   "outputs": [],
   "source": [
    "df_err = pd.DataFrame(errors)"
   ]
  },
  {
   "cell_type": "code",
   "execution_count": 61,
   "id": "25a1b839",
   "metadata": {},
   "outputs": [
    {
     "data": {
      "text/html": [
       "<div>\n",
       "<style scoped>\n",
       "    .dataframe tbody tr th:only-of-type {\n",
       "        vertical-align: middle;\n",
       "    }\n",
       "\n",
       "    .dataframe tbody tr th {\n",
       "        vertical-align: top;\n",
       "    }\n",
       "\n",
       "    .dataframe thead th {\n",
       "        text-align: right;\n",
       "    }\n",
       "</style>\n",
       "<table border=\"1\" class=\"dataframe\">\n",
       "  <thead>\n",
       "    <tr style=\"text-align: right;\">\n",
       "      <th></th>\n",
       "      <th>ELY</th>\n",
       "      <th>Elynimi</th>\n",
       "      <th>Poliisipri</th>\n",
       "      <th>Piirinimi</th>\n",
       "      <th>Maakunta</th>\n",
       "      <th>Maakuntsel</th>\n",
       "      <th>Kunta</th>\n",
       "      <th>Kuntasel</th>\n",
       "    </tr>\n",
       "  </thead>\n",
       "  <tbody>\n",
       "    <tr>\n",
       "      <th>796</th>\n",
       "      <td>-1</td>\n",
       "      <td>Tiepiiri tuntematon</td>\n",
       "      <td>0</td>\n",
       "      <td>Ei arvoa</td>\n",
       "      <td>14</td>\n",
       "      <td>Etelä-Pohjanmaa</td>\n",
       "      <td>301</td>\n",
       "      <td>Kurikka</td>\n",
       "    </tr>\n",
       "    <tr>\n",
       "      <th>797</th>\n",
       "      <td>-1</td>\n",
       "      <td>Tiepiiri tuntematon</td>\n",
       "      <td>0</td>\n",
       "      <td>Ei arvoa</td>\n",
       "      <td>14</td>\n",
       "      <td>Etelä-Pohjanmaa</td>\n",
       "      <td>301</td>\n",
       "      <td>Kurikka</td>\n",
       "    </tr>\n",
       "    <tr>\n",
       "      <th>798</th>\n",
       "      <td>-1</td>\n",
       "      <td>Tiepiiri tuntematon</td>\n",
       "      <td>0</td>\n",
       "      <td>Ei arvoa</td>\n",
       "      <td>14</td>\n",
       "      <td>Etelä-Pohjanmaa</td>\n",
       "      <td>301</td>\n",
       "      <td>Kurikka</td>\n",
       "    </tr>\n",
       "    <tr>\n",
       "      <th>799</th>\n",
       "      <td>-1</td>\n",
       "      <td>Tiepiiri tuntematon</td>\n",
       "      <td>0</td>\n",
       "      <td>Ei arvoa</td>\n",
       "      <td>14</td>\n",
       "      <td>Etelä-Pohjanmaa</td>\n",
       "      <td>301</td>\n",
       "      <td>Kurikka</td>\n",
       "    </tr>\n",
       "    <tr>\n",
       "      <th>800</th>\n",
       "      <td>-1</td>\n",
       "      <td>Tiepiiri tuntematon</td>\n",
       "      <td>0</td>\n",
       "      <td>Ei arvoa</td>\n",
       "      <td>14</td>\n",
       "      <td>Etelä-Pohjanmaa</td>\n",
       "      <td>301</td>\n",
       "      <td>Kurikka</td>\n",
       "    </tr>\n",
       "    <tr>\n",
       "      <th>...</th>\n",
       "      <td>...</td>\n",
       "      <td>...</td>\n",
       "      <td>...</td>\n",
       "      <td>...</td>\n",
       "      <td>...</td>\n",
       "      <td>...</td>\n",
       "      <td>...</td>\n",
       "      <td>...</td>\n",
       "    </tr>\n",
       "    <tr>\n",
       "      <th>15154</th>\n",
       "      <td>-1</td>\n",
       "      <td>Tiepiiri tuntematon</td>\n",
       "      <td>0</td>\n",
       "      <td>Ei arvoa</td>\n",
       "      <td>14</td>\n",
       "      <td>Etelä-Pohjanmaa</td>\n",
       "      <td>301</td>\n",
       "      <td>Kurikka</td>\n",
       "    </tr>\n",
       "    <tr>\n",
       "      <th>15549</th>\n",
       "      <td>-1</td>\n",
       "      <td>Tiepiiri tuntematon</td>\n",
       "      <td>0</td>\n",
       "      <td>Ei arvoa</td>\n",
       "      <td>1</td>\n",
       "      <td>Uusimaa</td>\n",
       "      <td>92</td>\n",
       "      <td>Vantaa</td>\n",
       "    </tr>\n",
       "    <tr>\n",
       "      <th>15550</th>\n",
       "      <td>-1</td>\n",
       "      <td>Tiepiiri tuntematon</td>\n",
       "      <td>0</td>\n",
       "      <td>Ei arvoa</td>\n",
       "      <td>1</td>\n",
       "      <td>Uusimaa</td>\n",
       "      <td>92</td>\n",
       "      <td>Vantaa</td>\n",
       "    </tr>\n",
       "    <tr>\n",
       "      <th>15911</th>\n",
       "      <td>-1</td>\n",
       "      <td>Tiepiiri tuntematon</td>\n",
       "      <td>0</td>\n",
       "      <td>Ei arvoa</td>\n",
       "      <td>7</td>\n",
       "      <td>Päijät-Häme</td>\n",
       "      <td>398</td>\n",
       "      <td>Lahti</td>\n",
       "    </tr>\n",
       "    <tr>\n",
       "      <th>15912</th>\n",
       "      <td>-1</td>\n",
       "      <td>Tiepiiri tuntematon</td>\n",
       "      <td>0</td>\n",
       "      <td>Ei arvoa</td>\n",
       "      <td>7</td>\n",
       "      <td>Päijät-Häme</td>\n",
       "      <td>398</td>\n",
       "      <td>Lahti</td>\n",
       "    </tr>\n",
       "  </tbody>\n",
       "</table>\n",
       "<p>174 rows × 8 columns</p>\n",
       "</div>"
      ],
      "text/plain": [
       "       ELY              Elynimi  Poliisipri Piirinimi  Maakunta  \\\n",
       "796     -1  Tiepiiri tuntematon           0  Ei arvoa        14   \n",
       "797     -1  Tiepiiri tuntematon           0  Ei arvoa        14   \n",
       "798     -1  Tiepiiri tuntematon           0  Ei arvoa        14   \n",
       "799     -1  Tiepiiri tuntematon           0  Ei arvoa        14   \n",
       "800     -1  Tiepiiri tuntematon           0  Ei arvoa        14   \n",
       "...    ...                  ...         ...       ...       ...   \n",
       "15154   -1  Tiepiiri tuntematon           0  Ei arvoa        14   \n",
       "15549   -1  Tiepiiri tuntematon           0  Ei arvoa         1   \n",
       "15550   -1  Tiepiiri tuntematon           0  Ei arvoa         1   \n",
       "15911   -1  Tiepiiri tuntematon           0  Ei arvoa         7   \n",
       "15912   -1  Tiepiiri tuntematon           0  Ei arvoa         7   \n",
       "\n",
       "            Maakuntsel  Kunta Kuntasel  \n",
       "796    Etelä-Pohjanmaa    301  Kurikka  \n",
       "797    Etelä-Pohjanmaa    301  Kurikka  \n",
       "798    Etelä-Pohjanmaa    301  Kurikka  \n",
       "799    Etelä-Pohjanmaa    301  Kurikka  \n",
       "800    Etelä-Pohjanmaa    301  Kurikka  \n",
       "...                ...    ...      ...  \n",
       "15154  Etelä-Pohjanmaa    301  Kurikka  \n",
       "15549          Uusimaa     92   Vantaa  \n",
       "15550          Uusimaa     92   Vantaa  \n",
       "15911      Päijät-Häme    398    Lahti  \n",
       "15912      Päijät-Häme    398    Lahti  \n",
       "\n",
       "[174 rows x 8 columns]"
      ]
     },
     "execution_count": 61,
     "metadata": {},
     "output_type": "execute_result"
    }
   ],
   "source": [
    "df_err"
   ]
  },
  {
   "cell_type": "code",
   "execution_count": 17,
   "id": "4686544d",
   "metadata": {},
   "outputs": [],
   "source": [
    "#df.loc[0:28344,['ELY']] = 0"
   ]
  },
  {
   "cell_type": "code",
   "execution_count": 107,
   "id": "e3ae3e9c",
   "metadata": {},
   "outputs": [],
   "source": [
    "li = []\n",
    "i = 0\n",
    "while i < len(df_err.index):\n",
    "    #df.loc[df_err[i],['ELY']] = 0\n",
    "    #li.append(df_err.index[i])\n",
    "    df.loc[df_err.index[i],['ELY']] = 0\n",
    "    li.append(df.loc[df_err.index[i],['ELY']])\n",
    "    i += 1\n",
    "        \n",
    "df_test = pd.DataFrame(li)"
   ]
  },
  {
   "cell_type": "code",
   "execution_count": 108,
   "id": "35d4b00a",
   "metadata": {},
   "outputs": [
    {
     "data": {
      "text/html": [
       "<div>\n",
       "<style scoped>\n",
       "    .dataframe tbody tr th:only-of-type {\n",
       "        vertical-align: middle;\n",
       "    }\n",
       "\n",
       "    .dataframe tbody tr th {\n",
       "        vertical-align: top;\n",
       "    }\n",
       "\n",
       "    .dataframe thead th {\n",
       "        text-align: right;\n",
       "    }\n",
       "</style>\n",
       "<table border=\"1\" class=\"dataframe\">\n",
       "  <thead>\n",
       "    <tr style=\"text-align: right;\">\n",
       "      <th></th>\n",
       "      <th>ELY</th>\n",
       "    </tr>\n",
       "  </thead>\n",
       "  <tbody>\n",
       "    <tr>\n",
       "      <th>796</th>\n",
       "      <td>0</td>\n",
       "    </tr>\n",
       "    <tr>\n",
       "      <th>797</th>\n",
       "      <td>0</td>\n",
       "    </tr>\n",
       "    <tr>\n",
       "      <th>798</th>\n",
       "      <td>0</td>\n",
       "    </tr>\n",
       "    <tr>\n",
       "      <th>799</th>\n",
       "      <td>0</td>\n",
       "    </tr>\n",
       "    <tr>\n",
       "      <th>800</th>\n",
       "      <td>0</td>\n",
       "    </tr>\n",
       "    <tr>\n",
       "      <th>...</th>\n",
       "      <td>...</td>\n",
       "    </tr>\n",
       "    <tr>\n",
       "      <th>15154</th>\n",
       "      <td>0</td>\n",
       "    </tr>\n",
       "    <tr>\n",
       "      <th>15549</th>\n",
       "      <td>0</td>\n",
       "    </tr>\n",
       "    <tr>\n",
       "      <th>15550</th>\n",
       "      <td>0</td>\n",
       "    </tr>\n",
       "    <tr>\n",
       "      <th>15911</th>\n",
       "      <td>0</td>\n",
       "    </tr>\n",
       "    <tr>\n",
       "      <th>15912</th>\n",
       "      <td>0</td>\n",
       "    </tr>\n",
       "  </tbody>\n",
       "</table>\n",
       "<p>174 rows × 1 columns</p>\n",
       "</div>"
      ],
      "text/plain": [
       "       ELY\n",
       "796      0\n",
       "797      0\n",
       "798      0\n",
       "799      0\n",
       "800      0\n",
       "...    ...\n",
       "15154    0\n",
       "15549    0\n",
       "15550    0\n",
       "15911    0\n",
       "15912    0\n",
       "\n",
       "[174 rows x 1 columns]"
      ]
     },
     "execution_count": 108,
     "metadata": {},
     "output_type": "execute_result"
    }
   ],
   "source": [
    "df_test"
   ]
  },
  {
   "cell_type": "code",
   "execution_count": 109,
   "id": "a58f9935",
   "metadata": {},
   "outputs": [],
   "source": [
    "# Create result csv file and save it\n",
    "df.to_csv(result_file, sep=rslt_delimiter, encoding=rslt_encoding, index=False)"
   ]
  },
  {
   "cell_type": "code",
   "execution_count": null,
   "id": "6058da84",
   "metadata": {},
   "outputs": [],
   "source": []
  }
 ],
 "metadata": {
  "kernelspec": {
   "display_name": "Python 3 (ipykernel)",
   "language": "python",
   "name": "python3"
  },
  "language_info": {
   "codemirror_mode": {
    "name": "ipython",
    "version": 3
   },
   "file_extension": ".py",
   "mimetype": "text/x-python",
   "name": "python",
   "nbconvert_exporter": "python",
   "pygments_lexer": "ipython3",
   "version": "3.10.4"
  }
 },
 "nbformat": 4,
 "nbformat_minor": 5
}
