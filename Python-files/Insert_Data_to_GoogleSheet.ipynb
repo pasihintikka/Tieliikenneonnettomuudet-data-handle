{
 "cells": [
  {
   "cell_type": "markdown",
   "id": "aa6cf328",
   "metadata": {},
   "source": [
    "# Insert data from Jupyter notebook to Google Sheet"
   ]
  },
  {
   "cell_type": "markdown",
   "id": "5d6cd877",
   "metadata": {},
   "source": [
    "How to use SQL Server Views and Stored Procedures, when creating dataframes:\n",
    "- View is a virtual table based on the result-set of an SQL statement. A view contains rows and columns, just like a real table. The fields in a view are fields from one or more real tables in the database. You can add SQL statements and functions to a view and present the data as if the data were coming from one single table.\n",
    "- Stored procedure is a prepared SQL code that you can save, so the code can be reused over and over again. So if you have an SQL query that you write over and over again, save it as a stored procedure, and then just call it to execute it. You can also pass parameters to a stored procedure, so that the stored procedure can act based on the parameter value(s) that is passed.\n",
    "\n",
    "NOTE: Google Sheet size is limited (40 000 rows, 18 278 columns, 200 sheets per workbook). Must use limited queries according to what you want to visualize.\n",
    "\n",
    "- Create a Service Account, that is used to make authorized API calls to Google Cloud Services.\n",
    "- Create dataframe by using SQL query.\n",
    "- Connect Python to Google Sheets.\n",
    "- Insert data to Google Sheet using df2gspread upload."
   ]
  },
  {
   "cell_type": "code",
   "execution_count": 5,
   "id": "c4e7c647",
   "metadata": {},
   "outputs": [],
   "source": [
    "# Import libraries\n",
    "import pandas as pd\n",
    "import gspread\n",
    "from oauth2client.service_account import ServiceAccountCredentials\n",
    "from pandas.io.json import json_normalize\n",
    "from df2gspread import df2gspread as d2g\n",
    "# Import libraries for SQL Server\n",
    "import pyodbc\n",
    "import sqlalchemy\n",
    "from sqlalchemy.engine import URL\n",
    "from sqlalchemy import create_engine"
   ]
  },
  {
   "cell_type": "markdown",
   "id": "ea4fba19",
   "metadata": {},
   "source": [
    "#### Google Sheet connection"
   ]
  },
  {
   "cell_type": "code",
   "execution_count": 2,
   "id": "89ead7bb",
   "metadata": {},
   "outputs": [],
   "source": [
    "# Connect to your service account, API service account must create in Google Cloud\n",
    "scope = ['https://spreadsheets.google.com/feeds']\n",
    "credentials = ServiceAccountCredentials.from_json_keyfile_name('stately-block-356119-aaa54f3aa304.json', scope)\n",
    "gc = gspread.authorize(credentials)"
   ]
  },
  {
   "cell_type": "code",
   "execution_count": 29,
   "id": "d221867e",
   "metadata": {},
   "outputs": [],
   "source": [
    "# Find the Google Sheet key of the spreadsheet you want to import, key is part of the url of the spreadsheet\n",
    "\n",
    "# Remember to share: Go to your Google Sheet and click Share. Paste the client_email into people box and click Send.\n",
    "# client_email can found from Service Account Credentials JSON file.\n",
    "\n",
    "spreadsheet_key = '1t3PMiiOFXKgaih3o6ZQ4pKaGxmUCBSoEzrWPdErHCJ4'\n",
    "wks_name = 'Onnettomuudet_Summat'"
   ]
  },
  {
   "cell_type": "markdown",
   "id": "28fd0eff",
   "metadata": {},
   "source": [
    "#### SQL Server connection"
   ]
  },
  {
   "cell_type": "code",
   "execution_count": 6,
   "id": "164f7cd5",
   "metadata": {},
   "outputs": [],
   "source": [
    "# Establish connection to SQL Server\n",
    "conn = 'DRIVER={ODBC Driver 17 for SQL Server};server=FUJITSU-PC\\SQLEXPRESS;database=Onnettomuudet;trusted_connection=Yes;'\n",
    "connection_url = URL.create(\"mssql+pyodbc\", query={\"odbc_connect\": conn})\n",
    "# Create engine between python and database\n",
    "engine = create_engine(connection_url)\n",
    "\n",
    "# Database parameters\n",
    "Database = 'Onnettomuudet'"
   ]
  },
  {
   "cell_type": "markdown",
   "id": "77ea45b6",
   "metadata": {},
   "source": [
    "#### Query for SQL Server by using db Views or Stored Procedures"
   ]
  },
  {
   "cell_type": "code",
   "execution_count": 30,
   "id": "c2468f10",
   "metadata": {},
   "outputs": [],
   "source": [
    "# Database Views\n",
    "sqlcommand_v1 = 'SELECT * FROM vuos_maak_onnett;'\n",
    "#sqlcommand_v2 = 'SELECT * FROM vuos_maak_onnett_tyyp;'\n",
    "#sqlcommand_v3 = 'SELECT * FROM vuos_vak_onnett_olos;'\n",
    "#sqlcommand_v4 = 'SELECT * FROM vuos_vak_onnett_paikka;'\n",
    "#sqlcommand_v5 = 'SELECT * FROM vuos_onnett_paikka;'\n",
    "#sqlcommand_v6 = 'SELECT * FROM vuos_onnett_paikka_osall;'\n",
    "\n",
    "# Database Procedures\n",
    "vuosi = 2020\n",
    "#sqlcommand_p1 = 'EXEC uspGetLoukk_Osall '+str(vuosi)\n",
    "#sqlcommand_p2 = 'EXEC uspGetKuoll_Osall '+str(vuosi)\n",
    "#sqlcommand_p3 = 'EXEC uspGetVakOnnett_Olos '+str(vuosi)\n",
    "#sqlcommand_p4 = 'EXEC uspGetVakOnnett_Paikka '+str(vuosi)"
   ]
  },
  {
   "cell_type": "markdown",
   "id": "bbef7019",
   "metadata": {},
   "source": [
    "#### Create selected Query and insert results to dataframe"
   ]
  },
  {
   "cell_type": "code",
   "execution_count": 31,
   "id": "438bf371",
   "metadata": {},
   "outputs": [],
   "source": [
    "query = pd.read_sql_query(sqlcommand_v1,con=engine)\n",
    "df = pd.DataFrame(query)"
   ]
  },
  {
   "cell_type": "code",
   "execution_count": 32,
   "id": "ba57b8f8",
   "metadata": {},
   "outputs": [
    {
     "data": {
      "text/html": [
       "<div>\n",
       "<style scoped>\n",
       "    .dataframe tbody tr th:only-of-type {\n",
       "        vertical-align: middle;\n",
       "    }\n",
       "\n",
       "    .dataframe tbody tr th {\n",
       "        vertical-align: top;\n",
       "    }\n",
       "\n",
       "    .dataframe thead th {\n",
       "        text-align: right;\n",
       "    }\n",
       "</style>\n",
       "<table border=\"1\" class=\"dataframe\">\n",
       "  <thead>\n",
       "    <tr style=\"text-align: right;\">\n",
       "      <th></th>\n",
       "      <th>Vuosi</th>\n",
       "      <th>Maakunta</th>\n",
       "      <th>Maak_Loc</th>\n",
       "      <th>Väestö</th>\n",
       "      <th>lkm_onnett</th>\n",
       "      <th>lkm_kuolleet</th>\n",
       "      <th>lkm_loukkaant</th>\n",
       "    </tr>\n",
       "  </thead>\n",
       "  <tbody>\n",
       "    <tr>\n",
       "      <th>0</th>\n",
       "      <td>2005</td>\n",
       "      <td>Etelä-Karjala</td>\n",
       "      <td>FI-02</td>\n",
       "      <td>134962</td>\n",
       "      <td>217</td>\n",
       "      <td>12</td>\n",
       "      <td>42</td>\n",
       "    </tr>\n",
       "    <tr>\n",
       "      <th>1</th>\n",
       "      <td>2005</td>\n",
       "      <td>Etelä-Pohjanmaa</td>\n",
       "      <td>FI-03</td>\n",
       "      <td>199150</td>\n",
       "      <td>1222</td>\n",
       "      <td>23</td>\n",
       "      <td>365</td>\n",
       "    </tr>\n",
       "    <tr>\n",
       "      <th>2</th>\n",
       "      <td>2005</td>\n",
       "      <td>Etelä-Savo</td>\n",
       "      <td>FI-04</td>\n",
       "      <td>152171</td>\n",
       "      <td>628</td>\n",
       "      <td>14</td>\n",
       "      <td>168</td>\n",
       "    </tr>\n",
       "    <tr>\n",
       "      <th>3</th>\n",
       "      <td>2005</td>\n",
       "      <td>Kainuu</td>\n",
       "      <td>FI-05</td>\n",
       "      <td>82214</td>\n",
       "      <td>350</td>\n",
       "      <td>7</td>\n",
       "      <td>89</td>\n",
       "    </tr>\n",
       "    <tr>\n",
       "      <th>4</th>\n",
       "      <td>2005</td>\n",
       "      <td>Kanta-Häme</td>\n",
       "      <td>FI-06</td>\n",
       "      <td>167630</td>\n",
       "      <td>381</td>\n",
       "      <td>3</td>\n",
       "      <td>73</td>\n",
       "    </tr>\n",
       "    <tr>\n",
       "      <th>...</th>\n",
       "      <td>...</td>\n",
       "      <td>...</td>\n",
       "      <td>...</td>\n",
       "      <td>...</td>\n",
       "      <td>...</td>\n",
       "      <td>...</td>\n",
       "      <td>...</td>\n",
       "    </tr>\n",
       "    <tr>\n",
       "      <th>309</th>\n",
       "      <td>2021</td>\n",
       "      <td>Pohjois-Savo</td>\n",
       "      <td>FI-15</td>\n",
       "      <td>248265</td>\n",
       "      <td>227</td>\n",
       "      <td>8</td>\n",
       "      <td>91</td>\n",
       "    </tr>\n",
       "    <tr>\n",
       "      <th>310</th>\n",
       "      <td>2021</td>\n",
       "      <td>Päijät-Häme</td>\n",
       "      <td>FI-16</td>\n",
       "      <td>205771</td>\n",
       "      <td>1756</td>\n",
       "      <td>20</td>\n",
       "      <td>659</td>\n",
       "    </tr>\n",
       "    <tr>\n",
       "      <th>311</th>\n",
       "      <td>2021</td>\n",
       "      <td>Satakunta</td>\n",
       "      <td>FI-17</td>\n",
       "      <td>215416</td>\n",
       "      <td>1166</td>\n",
       "      <td>19</td>\n",
       "      <td>492</td>\n",
       "    </tr>\n",
       "    <tr>\n",
       "      <th>312</th>\n",
       "      <td>2021</td>\n",
       "      <td>Uusimaa</td>\n",
       "      <td>FI-18</td>\n",
       "      <td>1702678</td>\n",
       "      <td>1086</td>\n",
       "      <td>24</td>\n",
       "      <td>417</td>\n",
       "    </tr>\n",
       "    <tr>\n",
       "      <th>313</th>\n",
       "      <td>2021</td>\n",
       "      <td>Varsinais-Suomi</td>\n",
       "      <td>FI-19</td>\n",
       "      <td>481403</td>\n",
       "      <td>914</td>\n",
       "      <td>23</td>\n",
       "      <td>375</td>\n",
       "    </tr>\n",
       "  </tbody>\n",
       "</table>\n",
       "<p>314 rows × 7 columns</p>\n",
       "</div>"
      ],
      "text/plain": [
       "     Vuosi         Maakunta Maak_Loc   Väestö  lkm_onnett  lkm_kuolleet  \\\n",
       "0     2005    Etelä-Karjala    FI-02   134962         217            12   \n",
       "1     2005  Etelä-Pohjanmaa    FI-03   199150        1222            23   \n",
       "2     2005       Etelä-Savo    FI-04   152171         628            14   \n",
       "3     2005           Kainuu    FI-05    82214         350             7   \n",
       "4     2005       Kanta-Häme    FI-06   167630         381             3   \n",
       "..     ...              ...      ...      ...         ...           ...   \n",
       "309   2021     Pohjois-Savo    FI-15   248265         227             8   \n",
       "310   2021      Päijät-Häme    FI-16   205771        1756            20   \n",
       "311   2021        Satakunta    FI-17   215416        1166            19   \n",
       "312   2021          Uusimaa    FI-18  1702678        1086            24   \n",
       "313   2021  Varsinais-Suomi    FI-19   481403         914            23   \n",
       "\n",
       "     lkm_loukkaant  \n",
       "0               42  \n",
       "1              365  \n",
       "2              168  \n",
       "3               89  \n",
       "4               73  \n",
       "..             ...  \n",
       "309             91  \n",
       "310            659  \n",
       "311            492  \n",
       "312            417  \n",
       "313            375  \n",
       "\n",
       "[314 rows x 7 columns]"
      ]
     },
     "execution_count": 32,
     "metadata": {},
     "output_type": "execute_result"
    }
   ],
   "source": [
    "# Do some manipulation of the data\n",
    "df"
   ]
  },
  {
   "cell_type": "markdown",
   "id": "eaa093ca",
   "metadata": {},
   "source": [
    "#### Insert data to Google Sheet"
   ]
  },
  {
   "cell_type": "code",
   "execution_count": 33,
   "id": "7fb3a187",
   "metadata": {},
   "outputs": [
    {
     "data": {
      "text/plain": [
       "<Worksheet 'Onnettomuudet_Summat' id:1645469010>"
      ]
     },
     "execution_count": 33,
     "metadata": {},
     "output_type": "execute_result"
    }
   ],
   "source": [
    "# Save the data to a new sheet in the dataframe\n",
    "d2g.upload(df, spreadsheet_key, wks_name, credentials=credentials, row_names=True)"
   ]
  },
  {
   "cell_type": "markdown",
   "id": "500f0ebd",
   "metadata": {},
   "source": [
    "# Get Google sheet data to the Jupyter notebook"
   ]
  },
  {
   "cell_type": "code",
   "execution_count": null,
   "id": "7f9e9f32",
   "metadata": {},
   "outputs": [],
   "source": [
    "# Import the data from your google spreadsheet into Jupyter\n",
    "\n",
    "# Remember to share: Go to your Google Sheet and click Share. Paste the client_email into people box and click Send.\n",
    "# client_email can found from Service Account Credentials JSON file.\n",
    "\n",
    "book = gc.open_by_key(spreadsheet_key)\n",
    "worksheet = book.worksheet(\"Onnettomuudet\")\n",
    "table = worksheet.get_all_values()"
   ]
  },
  {
   "cell_type": "code",
   "execution_count": null,
   "id": "d2cb9eca",
   "metadata": {},
   "outputs": [],
   "source": [
    "# Convert the sheet data into a pandas dataframe\n",
    "\n",
    "# Convert table data into a dataframe\n",
    "df = pd.DataFrame(table[1:], columns=table[0])\n",
    "# Convert number strings to floats and ints\n",
    "df = df.apply(pd.to_numeric, errors='ignore')\n",
    "# Convert date strings to datetime format\n",
    "df['Aikaleima'] = pd.to_datetime(df['Aikaleima'], format='%d.%m.%Y klo %H.%M.%S')\n",
    "#df.head()"
   ]
  },
  {
   "cell_type": "code",
   "execution_count": null,
   "id": "1201fa25",
   "metadata": {},
   "outputs": [],
   "source": []
  },
  {
   "cell_type": "code",
   "execution_count": null,
   "id": "33958ba7",
   "metadata": {},
   "outputs": [],
   "source": []
  }
 ],
 "metadata": {
  "kernelspec": {
   "display_name": "Python 3 (ipykernel)",
   "language": "python",
   "name": "python3"
  },
  "language_info": {
   "codemirror_mode": {
    "name": "ipython",
    "version": 3
   },
   "file_extension": ".py",
   "mimetype": "text/x-python",
   "name": "python",
   "nbconvert_exporter": "python",
   "pygments_lexer": "ipython3",
   "version": "3.10.4"
  }
 },
 "nbformat": 4,
 "nbformat_minor": 5
}
