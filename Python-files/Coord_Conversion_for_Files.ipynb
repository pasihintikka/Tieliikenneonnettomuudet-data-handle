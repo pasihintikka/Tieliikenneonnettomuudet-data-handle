{
 "cells": [
  {
   "cell_type": "markdown",
   "id": "01af67d9",
   "metadata": {},
   "source": [
    "# Coordination Conversion for files"
   ]
  },
  {
   "cell_type": "markdown",
   "id": "3a4af18c",
   "metadata": {},
   "source": [
    "Collect data of Tieliikenneonnettomuudet by years from Avoindata.fi. Data is created by Väylävirasto. The data contains coordinate information in a format ETRSTM35FIN not supported by most data visualization tools. Therefore is a need to convert the coordinates into a format WGS84 that is useful.\n",
    "\n",
    "This program is made to convert a large number of coordinates in a file to another format.\n",
    "1. Read file and source coordinations\n",
    "2. Convert coordinations\n",
    "3. Create new coordinates and drop source coordinates for file\n",
    "4. Save converted file to directory\n",
    "\n",
    "For now, supported coordinate formats are only ETRSTM35FIN and WGS84.\n",
    "\n",
    "I have made changes to the re-used functions (see below) for the following reason and in the following way:\n",
    "- I want to process coordinate values from a large number of the file lines (rows) at once\n",
    "  - in this case it is easiest to process both coordinate values of each row at the same time in the functions\n",
    "  - it is simple to read and handle values from dataframe\n",
    "- I have changed the code of the re-used functions in that way:\n",
    "  - both coordinate values are imported and returned from the functions\n",
    "---\n",
    "Re-used parts 'Constants' and some 'Functions' are from free public source code by Olli Lammi.\n",
    "- File:            coordinates.py\n",
    "- Author:          Olli Lammi\n",
    "- Version:         1.0f\n",
    "- Date:            17.01.2022\n",
    "- License:         MIT License http://opensource.org/licenses/MIT\n",
    "-                  Copyright (c) 2012-2015 Olli Lammi olammi@iki.fi\n",
    "\n",
    "The software is provided \"as is\", without warranty of any kind, express or implied, including but not limited to the warranties of merchantability, fitness for a particular purpose and noninfringement. In no event shall the authors or copyright holders be liable for any claim, damages or other liability, whether in an action of contract, tort or otherwise, arising from, out of or in connection with the software or the use or other dealings in the software."
   ]
  },
  {
   "cell_type": "markdown",
   "id": "36298893",
   "metadata": {},
   "source": [
    "### Define the source and result file parameters"
   ]
  },
  {
   "cell_type": "code",
   "execution_count": 1,
   "id": "fb77d16d",
   "metadata": {},
   "outputs": [],
   "source": [
    "# File path and name\n",
    "year = 2014\n",
    "src_file = '../datasets/onnettomuus/tieliikenneonnettomuudet_'+str(year)+'_onnettomuus.csv'\n",
    "rslt_file = '../datasets/onnettomuus/co/tielonnett_'+str(year)+'_onnett.csv'\n",
    "\n",
    "# File attributes\n",
    "src_delimiter = ';'\n",
    "src_encoding = 'ansi'\n",
    "rslt_delimiter = ';'\n",
    "rslt_encoding = 'utf-8'\n",
    "\n",
    "# Coordinate types (ETRSTM35FIN , WGS84)\n",
    "src_coord = 'ETRSTM35FIN'\n",
    "rslt_coord = 'WGS84'\n",
    "\n",
    "# Coordinate column names in files\n",
    "src_col_N = 'Y'\n",
    "src_col_E = 'X'\n",
    "rslt_col_N = 'position.lat'\n",
    "rslt_col_E = 'position.lon'"
   ]
  },
  {
   "cell_type": "code",
   "execution_count": 2,
   "id": "43617247",
   "metadata": {},
   "outputs": [],
   "source": [
    "# Used libraries\n",
    "import pandas as pd\n",
    "import numpy as np\n",
    "import math"
   ]
  },
  {
   "cell_type": "markdown",
   "id": "76b341a5",
   "metadata": {},
   "source": [
    "### Constants"
   ]
  },
  {
   "cell_type": "code",
   "execution_count": 3,
   "id": "03849d54",
   "metadata": {},
   "outputs": [],
   "source": [
    "# Ellipsoids\n",
    "ELLIPSOID = {'WGS84': {'a': 6378137.0, 'b': 6356752.314245, 'f': 1.0 / 298.257223563, 'k0': 0.9996}, \\\n",
    "             'KKJ': {'a': 6378388.0, 'b': 6356911.946128, 'f': 1.0 / 297.0, 'k0': 1.0}, \\\n",
    "             'GRS80': {'a': 6378137.0, 'b': 6356752.314140, 'f': 1.0 / 298.257222101, 'k0': 1.0} \\\n",
    "}\n",
    "\n",
    "# init precalculated ellipsoid parameters\n",
    "for key in ELLIPSOID.keys():\n",
    "    a = ELLIPSOID[key]['a']\n",
    "    f = ELLIPSOID[key]['f']\n",
    "    \n",
    "    n = f / (2.0 - f)\n",
    "    ELLIPSOID[key]['n'] = n\n",
    "    ELLIPSOID[key]['A1'] = a / (1.0 + n) * (1.0 + math.pow(n, 2.0) / 4.0 + math.pow(n, 4.0) / 64.0)\n",
    "    ELLIPSOID[key]['e'] = math.sqrt(2.0 * f - math.pow(f, 2.0))\n",
    "    ELLIPSOID[key]['h1'] = 1.0/2.0 * n - 2.0/3.0 * math.pow(n, 2.0) + 37.0/96.0 * math.pow(n, 3.0) - 1.0/360.0 * math.pow(n, 4.0)\n",
    "    ELLIPSOID[key]['h2'] = 1.0/48.0 * math.pow(n, 2.0) + 1.0/15.0 * math.pow(n, 3.0) - 437.0/1440.0 * math.pow(n, 4.0)\n",
    "    ELLIPSOID[key]['h3'] = 17.0/480.0 * math.pow(n, 3.0) - 37.0/840.0 * math.pow(n, 4.0)\n",
    "    ELLIPSOID[key]['h4'] = 4397.0/161280.0 * math.pow(n, 4.0)\n",
    "    ELLIPSOID[key]['h1p'] = 1.0/2.0 * n - 2.0/3.0 * math.pow(n, 2.0) + 5.0/16.0 * math.pow(n, 3.0) + 41.0/180.0 * math.pow(n, 4.0)\n",
    "    ELLIPSOID[key]['h2p'] = 13.0/48.0 * math.pow(n, 2.0) - 3.0/5.0 * math.pow(n, 3.0) + 557.0/1440.0 * math.pow(n, 4.0)\n",
    "    ELLIPSOID[key]['h3p'] = 61.0/240.0 * math.pow(n, 3.0) - 103.0/140.0 * math.pow(n, 4.0)\n",
    "    ELLIPSOID[key]['h4p'] = 49561.0/161280.0 * math.pow(n, 4.0)\n"
   ]
  },
  {
   "cell_type": "markdown",
   "id": "f80baaa3",
   "metadata": {},
   "source": [
    "# Functions"
   ]
  },
  {
   "cell_type": "markdown",
   "id": "eabb20c3",
   "metadata": {},
   "source": [
    "### Function, main: ETRSTM35FIN_to_WGS84"
   ]
  },
  {
   "cell_type": "code",
   "execution_count": 4,
   "id": "eae94e3c",
   "metadata": {},
   "outputs": [],
   "source": [
    "def ETRSTM35FIN_to_WGS84(ETRSin):\n",
    "    WGS84lalo = pd.DataFrame(columns = [rslt_col_N, rslt_col_E])\n",
    "    for i in ETRSin.index:\n",
    "        E = ETRSin.at[i, src_col_E]\n",
    "        N = ETRSin.at[i, src_col_N]\n",
    "        LALO = ETRSTM35FINxy_to_WGS84lalo(E, N)\n",
    "        WGS84lalo.at[i, rslt_col_N] = float(\"{:.9f}\".format(LALO.get('lat')))\n",
    "        WGS84lalo.at[i, rslt_col_E] = float(\"{:.9f}\".format(LALO.get('lon')))\n",
    "    return WGS84lalo"
   ]
  },
  {
   "cell_type": "markdown",
   "id": "83e5c2af",
   "metadata": {},
   "source": [
    "### Function, main: WGS84_to_ETRSTM35FIN"
   ]
  },
  {
   "cell_type": "code",
   "execution_count": 5,
   "id": "f0da0510",
   "metadata": {},
   "outputs": [],
   "source": [
    "def WGS84_to_ETRSTM35FIN(WGS84in):\n",
    "    ETRSTM35FINxy = pd.DataFrame(columns = [rslt_col_N, rslt_col_E])\n",
    "    for i in WGS84in.index:\n",
    "        lat = WGS84in.at[i, src_col_N]\n",
    "        lon = WGS84in.at[i, src_col_E]\n",
    "        XY = WGS84lalo_to_ETRSTM35FINxy(lat, lon)\n",
    "        ETRSTM35FINxy.at[i, rslt_col_E] = np.round(XY.get('E'), 0)\n",
    "        ETRSTM35FINxy.at[i, rslt_col_N] = np.round(XY.get('N'), 0)\n",
    "    return ETRSTM35FINxy"
   ]
  },
  {
   "cell_type": "markdown",
   "id": "cc222f19",
   "metadata": {},
   "source": [
    "### Function: ETRSTM35FINxy_to_WGS84lalo"
   ]
  },
  {
   "cell_type": "markdown",
   "id": "54aa90a7",
   "metadata": {},
   "source": [
    "Input:\n",
    "- dataframe with\n",
    "  - ['N'] is ETRS-TM35FIN Northing\n",
    "  - ['E'] in ETRS-TM35FIN Easting\n",
    "\n",
    "Output:\n",
    "- dataframe with\n",
    "  - ['lat'] is latitude in degrees (WGS84)\n",
    "  - ['lon'] is longitude in degrees (WGS84)"
   ]
  },
  {
   "cell_type": "code",
   "execution_count": 6,
   "id": "7dcc2c0e",
   "metadata": {},
   "outputs": [],
   "source": [
    "def ETRSTM35FINxy_to_WGS84lalo(E, N):  \n",
    "    lo0 = 27.0\n",
    "    E0 = 500000.0\n",
    "  \n",
    "    return xy_to_lalo(E, N, lo0, E0, ELLIPSOID['WGS84'])"
   ]
  },
  {
   "cell_type": "markdown",
   "id": "c44201a6",
   "metadata": {},
   "source": [
    "### Function: WGS84lalo_to_ETRSTM35FINxy"
   ]
  },
  {
   "cell_type": "markdown",
   "id": "efa505ce",
   "metadata": {},
   "source": [
    "Input:\n",
    "- dataframe with\n",
    "  - ['lat'] is latitude in degrees (WGS84)\n",
    "  - ['lon'] is longitude in degrees (WGS84)\n",
    "\n",
    "Output:\n",
    "- dataframe with\n",
    "  - ['N'] is ETRS-TM35FIN Northing\n",
    "  - ['E'] in ETRS-TM35FIN Easting"
   ]
  },
  {
   "cell_type": "code",
   "execution_count": 7,
   "id": "e5407453",
   "metadata": {},
   "outputs": [],
   "source": [
    "def WGS84lalo_to_ETRSTM35FINxy(lat, lon):\n",
    "  lo0 = 27.0\n",
    "  E0 = 500000.0\n",
    "  \n",
    "  return lalo_to_xy(lat, lon, lo0, E0, ELLIPSOID['WGS84'])"
   ]
  },
  {
   "cell_type": "markdown",
   "id": "82887e1c",
   "metadata": {},
   "source": [
    "### Function, sub: xy_to_lalo"
   ]
  },
  {
   "cell_type": "code",
   "execution_count": 8,
   "id": "e9646926",
   "metadata": {},
   "outputs": [],
   "source": [
    "def xy_to_lalo(x_E, y_N, lo0, E0, ellipsoid):  \n",
    "    lo0 = math.radians(lo0)\n",
    "\n",
    "    A1 = ellipsoid['A1']\n",
    "    k0 = ellipsoid['k0']\n",
    "    e = ellipsoid['e']\n",
    "    h1 = ellipsoid['h1']\n",
    "    h2 = ellipsoid['h2']\n",
    "    h3 = ellipsoid['h3']\n",
    "    h4 = ellipsoid['h4']\n",
    "  \n",
    "    E = y_N / (A1 * k0)\n",
    "    nn = (x_E - E0) / (A1 * k0)\n",
    "  \n",
    "    E1p = h1 * math.sin(2.0 * E) * math.cosh(2.0 * nn)\n",
    "    E2p = h2 * math.sin(4.0 * E) * math.cosh(4.0 * nn)\n",
    "    E3p = h3 * math.sin(6.0 * E) * math.cosh(6.0 * nn)\n",
    "    E4p = h4 * math.sin(8.0 * E) * math.cosh(8.0 * nn)\n",
    "    nn1p = h1 * math.cos(2.0 * E) * math.sinh(2.0 * nn)\n",
    "    nn2p = h2 * math.cos(4.0 * E) * math.sinh(4.0 * nn)\n",
    "    nn3p = h3 * math.cos(6.0 * E) * math.sinh(6.0 * nn)\n",
    "    nn4p = h4 * math.cos(8.0 * E) * math.sinh(8.0 * nn)\n",
    "    Ep = E - E1p - E2p - E3p - E4p\n",
    "    nnp = nn - nn1p - nn2p - nn3p - nn4p\n",
    "    be = math.asin(math.sin(Ep) / math.cosh(nnp))\n",
    "  \n",
    "    Q = math.asinh(math.tan(be))\n",
    "    Qp = Q + e * math.atanh(e * math.tanh(Q))\n",
    "    Qp = Q + e * math.atanh(e * math.tanh(Qp))\n",
    "    Qp = Q + e * math.atanh(e * math.tanh(Qp))\n",
    "    Qp = Q + e * math.atanh(e * math.tanh(Qp))\n",
    "  \n",
    "    LALO = {}\n",
    "    LALO['lat'] = float(math.degrees(math.atan(math.sinh(Qp)))) \n",
    "    LALO['lon'] = float(math.degrees(lo0 + math.asin(math.tanh(nnp) / math.cos(be))))\n",
    "\n",
    "    return LALO"
   ]
  },
  {
   "cell_type": "markdown",
   "id": "b31ff9f9",
   "metadata": {},
   "source": [
    "### Function, sub: lalo_to_xy"
   ]
  },
  {
   "cell_type": "code",
   "execution_count": 9,
   "id": "ffca29d7",
   "metadata": {},
   "outputs": [],
   "source": [
    "def lalo_to_xy(lat, lon, lo0, E0, ellipsoid):\n",
    "    lo0 = math.radians(lo0)  \n",
    "    lat = math.radians(lat)\n",
    "    lon = math.radians(lon)  \n",
    "  \n",
    "    e = ellipsoid['e']\n",
    "    k0 = ellipsoid['k0']\n",
    "    h1p = ellipsoid['h1p']\n",
    "    h2p = ellipsoid['h2p']\n",
    "    h3p = ellipsoid['h3p']\n",
    "    h4p = ellipsoid['h4p']\n",
    "    A1 = ellipsoid['A1']  \n",
    "    \n",
    "    Q = math.asinh(math.tan(lat)) - e * math.atanh(e * math.sin(lat))\n",
    "    be = math.atan(math.sinh(Q))\n",
    "    nnp = math.atanh(math.cos(be) * math.sin(lon - lo0))\n",
    "    Ep = math.asin(math.sin(be) * math.cosh(nnp))  \n",
    "    E1 = h1p * math.sin(2.0 * Ep) * math.cosh(2.0 * nnp)\n",
    "    E2 = h2p * math.sin(4.0 * Ep) * math.cosh(4.0 * nnp)\n",
    "    E3 = h3p * math.sin(6.0 * Ep) * math.cosh(6.0 * nnp)\n",
    "    E4 = h4p * math.sin(8.0 * Ep) * math.cosh(8.0 * nnp)\n",
    "    nn1 = h1p * math.cos(2.0 * Ep) * math.sinh(2.0 * nnp)\n",
    "    nn2 = h2p * math.cos(4.0 * Ep) * math.sinh(4.0 * nnp)\n",
    "    nn3 = h3p * math.cos(6.0 * Ep) * math.sinh(6.0 * nnp)\n",
    "    nn4 = h4p * math.cos(8.0 * Ep) * math.sinh(8.0 * nnp)\n",
    "    E = Ep + E1 + E2 + E3 + E4\n",
    "    nn = nnp + nn1 + nn2 + nn3 + nn4\n",
    "  \n",
    "    XY = {}\n",
    "    XY['N'] = A1 * E * k0\n",
    "    XY['E'] = A1 * nn * k0 + E0\n",
    "\n",
    "    return XY"
   ]
  },
  {
   "cell_type": "markdown",
   "id": "3c799bbb",
   "metadata": {},
   "source": [
    "## Conversion"
   ]
  },
  {
   "cell_type": "markdown",
   "id": "e9c4b9f7",
   "metadata": {},
   "source": [
    "#### Download source file"
   ]
  },
  {
   "cell_type": "code",
   "execution_count": 10,
   "id": "bb70af2b",
   "metadata": {},
   "outputs": [
    {
     "name": "stderr",
     "output_type": "stream",
     "text": [
      "C:\\Users\\Pasi\\AppData\\Local\\Temp\\ipykernel_9236\\842088147.py:1: DtypeWarning: Columns (68) have mixed types. Specify dtype option on import or set low_memory=False.\n",
      "  df = pd.read_csv(src_file, delimiter=src_delimiter, encoding=src_encoding)\n"
     ]
    }
   ],
   "source": [
    "df = pd.read_csv(src_file, delimiter=src_delimiter, encoding=src_encoding)"
   ]
  },
  {
   "cell_type": "markdown",
   "id": "9db25b48",
   "metadata": {},
   "source": [
    "### Select conversation type and needed operations"
   ]
  },
  {
   "cell_type": "code",
   "execution_count": 11,
   "id": "dd12ba77",
   "metadata": {},
   "outputs": [],
   "source": [
    "if src_coord == 'ETRSTM35FIN' and rslt_coord == 'WGS84':\n",
    "    # Slice needed columns from source file\n",
    "    ETRSin = pd.DataFrame(df[[src_col_N,src_col_E]])\n",
    "    # ETRSTM35FIN (x, y) --> WGS84 (lat, lon)\n",
    "    WGS84lalo = ETRSTM35FIN_to_WGS84(ETRSin)\n",
    "    # Concate converted file and source file (converted columns to the end of source file columns)\n",
    "    frames = [df, WGS84lalo]\n",
    "    result = pd.concat(frames, axis=1)\n",
    "elif src_coord == 'WGS84' and rslt_coord == 'ETRSTM35FIN':\n",
    "    # Slice needed columns from source file\n",
    "    WGS84in = pd.DataFrame(df[[src_col_N,src_col_E]])\n",
    "    # WGS84 (lat, lon) --> ETRSTM35FIN (x, y)\n",
    "    ETRSTM35FINxy = WGS84_to_ETRSTM35FIN(WGS84in)\n",
    "    # Concate converted file and source file (converted columns to the end of source file columns)\n",
    "    frames = [df, ETRSTM35FINxy]\n",
    "    result = pd.concat(frames, axis=1)"
   ]
  },
  {
   "cell_type": "markdown",
   "id": "9d458f49",
   "metadata": {},
   "source": [
    "## Finished"
   ]
  },
  {
   "cell_type": "markdown",
   "id": "7144d6b9",
   "metadata": {},
   "source": [
    "#### Drop old coordination columns"
   ]
  },
  {
   "cell_type": "code",
   "execution_count": 12,
   "id": "9e9e6452",
   "metadata": {},
   "outputs": [],
   "source": [
    "result_file = result.drop([src_col_N, src_col_E], axis=1)"
   ]
  },
  {
   "cell_type": "markdown",
   "id": "cbf3f692",
   "metadata": {},
   "source": [
    "#### Create new csv file with converted values"
   ]
  },
  {
   "cell_type": "code",
   "execution_count": 13,
   "id": "b784de40",
   "metadata": {},
   "outputs": [],
   "source": [
    "result_file.to_csv(rslt_file, sep=rslt_delimiter, encoding=rslt_encoding, index=False)"
   ]
  },
  {
   "cell_type": "code",
   "execution_count": null,
   "id": "aafaea2f",
   "metadata": {},
   "outputs": [],
   "source": []
  }
 ],
 "metadata": {
  "kernelspec": {
   "display_name": "Python 3 (ipykernel)",
   "language": "python",
   "name": "python3"
  },
  "language_info": {
   "codemirror_mode": {
    "name": "ipython",
    "version": 3
   },
   "file_extension": ".py",
   "mimetype": "text/x-python",
   "name": "python",
   "nbconvert_exporter": "python",
   "pygments_lexer": "ipython3",
   "version": "3.10.4"
  }
 },
 "nbformat": 4,
 "nbformat_minor": 5
}
